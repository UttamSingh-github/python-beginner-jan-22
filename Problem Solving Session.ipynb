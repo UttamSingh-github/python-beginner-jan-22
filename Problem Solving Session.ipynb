{
 "cells": [
  {
   "cell_type": "markdown",
   "id": "950dd327",
   "metadata": {},
   "source": [
    "# Problem Solving Session"
   ]
  },
  {
   "cell_type": "markdown",
   "id": "d182f2f6",
   "metadata": {},
   "source": [
    "1. Put the full exact name of the problem in the questions tab.\n",
    "2. If you find, your problem is already there, upvote it.\n",
    "3. The problem with the most upvotes will be picked to be discussed."
   ]
  },
  {
   "cell_type": "code",
   "execution_count": null,
   "id": "d8a3be06",
   "metadata": {},
   "outputs": [],
   "source": []
  },
  {
   "cell_type": "code",
   "execution_count": null,
   "id": "8c4a9d6b",
   "metadata": {},
   "outputs": [],
   "source": []
  },
  {
   "cell_type": "code",
   "execution_count": null,
   "id": "c14fe310",
   "metadata": {},
   "outputs": [],
   "source": []
  },
  {
   "cell_type": "code",
   "execution_count": null,
   "id": "1f2ea434",
   "metadata": {},
   "outputs": [],
   "source": []
  },
  {
   "cell_type": "code",
   "execution_count": null,
   "id": "c15c96a2",
   "metadata": {},
   "outputs": [],
   "source": []
  },
  {
   "cell_type": "markdown",
   "id": "3b036977",
   "metadata": {},
   "source": [
    "## First Missing Integer\n",
    "https://www.interviewbit.com/problems/first-missing-integer/\n",
    "\n",
    "Given an unsorted integer array, find the first missing positive integer.\n",
    "\n",
    "Example:\n",
    "\n",
    "Given `[1,2,0]` return 3,\n",
    "\n",
    "`[3,4,-1,1]` return 2,\n",
    "\n",
    "`[-8, -7, -6]` returns 1\n",
    "\n",
    "Your algorithm should run in O(n) time and use constant space."
   ]
  },
  {
   "cell_type": "code",
   "execution_count": 12,
   "id": "12d8da8b",
   "metadata": {},
   "outputs": [],
   "source": [
    "def firstMissingPositive(A):\n",
    "    n = len(A)\n",
    "    \n",
    "#     Sanitize our data\n",
    "    for i in range(n):\n",
    "        if A[i] <= 0 or A[i] > n:\n",
    "            A[i] = n+10000\n",
    "        \n",
    "#     Storing our data, by indices\n",
    "    for i in range(n):\n",
    "        idx = abs(A[i]) - 1\n",
    "        \n",
    "        if 0 <= idx < n and A[idx] > 0:\n",
    "            A[idx] = -A[idx]\n",
    "            \n",
    "#     Search for our answer\n",
    "    for i in range(n):\n",
    "        if A[i] > 0:\n",
    "            return i+1\n",
    "        \n",
    "#     Case 1 - When all numbers from [1,n] are present\n",
    "    return n+1"
   ]
  },
  {
   "cell_type": "code",
   "execution_count": 13,
   "id": "cd839a16",
   "metadata": {},
   "outputs": [
    {
     "data": {
      "text/plain": [
       "2"
      ]
     },
     "execution_count": 13,
     "metadata": {},
     "output_type": "execute_result"
    }
   ],
   "source": [
    "firstMissingPositive([3,4,-1,1])"
   ]
  },
  {
   "cell_type": "code",
   "execution_count": null,
   "id": "4ba49659",
   "metadata": {},
   "outputs": [],
   "source": []
  },
  {
   "cell_type": "code",
   "execution_count": null,
   "id": "795f8824",
   "metadata": {},
   "outputs": [],
   "source": []
  },
  {
   "cell_type": "code",
   "execution_count": null,
   "id": "b4f148c4",
   "metadata": {},
   "outputs": [],
   "source": []
  },
  {
   "cell_type": "code",
   "execution_count": null,
   "id": "2b27f9db",
   "metadata": {},
   "outputs": [],
   "source": []
  },
  {
   "cell_type": "code",
   "execution_count": null,
   "id": "69358b79",
   "metadata": {},
   "outputs": [],
   "source": []
  },
  {
   "cell_type": "markdown",
   "id": "257eea3c",
   "metadata": {},
   "source": [
    "## 2 Sum\n",
    "https://www.interviewbit.com/problems/2-sum/ \\\n",
    "Given an array of integers, find two numbers such that they add up to a specific target number.\n",
    "\n",
    "The function twoSum should return indices of the two numbers such that they add up to the target, where index1 < index2. Please note that your returned answers (both index1 and index2 ) are not zero-based. Put both these numbers in order in an array and return the array from your function ( Looking at the function signature will make things clearer ). Note that, if no pair exists, return empty list.\n",
    "\n",
    "If multiple solutions exist, output the one where index2 is minimum. If there are multiple solutions with the minimum index2, choose the one with minimum index1 out of them.\n",
    "\n",
    "Input: [2, 7, 11, 15], target=9\n",
    "Output: index1 = 1, index2 = 2"
   ]
  },
  {
   "cell_type": "code",
   "execution_count": 4,
   "id": "0ba45f79",
   "metadata": {},
   "outputs": [],
   "source": [
    "def twoSum(A, B):\n",
    "    num_to_index = {}\n",
    "    \n",
    "    for i in range(len(A)):\n",
    "        required = B - A[i]\n",
    "        \n",
    "        \n",
    "        if required in num_to_index:\n",
    "            return num_to_index[required]+1, i+1\n",
    "        \n",
    "        if A[i] not in num_to_index:\n",
    "#             Only add a new entry for A[i]\n",
    "            num_to_index[A[i]] = i\n",
    "        \n",
    "    return []"
   ]
  },
  {
   "cell_type": "code",
   "execution_count": 5,
   "id": "cf6a7c0c",
   "metadata": {},
   "outputs": [
    {
     "data": {
      "text/plain": [
       "(1, 4)"
      ]
     },
     "execution_count": 5,
     "metadata": {},
     "output_type": "execute_result"
    }
   ],
   "source": [
    "twoSum([2, 2, 7, 2, 2, 11, 15], 13)"
   ]
  },
  {
   "cell_type": "code",
   "execution_count": null,
   "id": "ca748607",
   "metadata": {},
   "outputs": [],
   "source": []
  },
  {
   "cell_type": "code",
   "execution_count": null,
   "id": "c02ba0d5",
   "metadata": {},
   "outputs": [],
   "source": []
  },
  {
   "cell_type": "code",
   "execution_count": null,
   "id": "5463db19",
   "metadata": {},
   "outputs": [],
   "source": []
  },
  {
   "cell_type": "code",
   "execution_count": null,
   "id": "839335d8",
   "metadata": {},
   "outputs": [],
   "source": []
  },
  {
   "cell_type": "code",
   "execution_count": null,
   "id": "21092b64",
   "metadata": {},
   "outputs": [],
   "source": []
  },
  {
   "cell_type": "markdown",
   "id": "193fe2ce",
   "metadata": {},
   "source": [
    "## Maximum Absolute Difference\n",
    "https://www.interviewbit.com/problems/maximum-absolute-difference/\n",
    "\n",
    "You are given an array of N integers, A<sub>1</sub>, A<sub>2</sub> ,…, A<sub>N</sub>. Return maximum value of `f(i, j)` for all `1 ≤ i, j ≤ N`.\n",
    "\n",
    "`f(i, j)` is defined as `|A[i] - A[j]| + |i - j|`, where `|x|` denotes absolute value of x.\n",
    "\n",
    "For example,\n",
    "```\n",
    "A=[1, 3, -1]\n",
    "\n",
    "f(1, 1) = f(2, 2) = f(3, 3) = 0\n",
    "f(1, 2) = f(2, 1) = |1 - 3| + |1 - 2| = 3\n",
    "f(1, 3) = f(3, 1) = |1 - (-1)| + |1 - 3| = 4\n",
    "f(2, 3) = f(3, 2) = |3 - (-1)| + |2 - 3| = 5\n",
    "```\n",
    "So, we return 5."
   ]
  },
  {
   "cell_type": "code",
   "execution_count": 6,
   "id": "433b2b13",
   "metadata": {},
   "outputs": [],
   "source": [
    "def maxArr(A):\n",
    "    inf = 10 ** 9   # float('inf')\n",
    "    a = -inf\n",
    "    b = inf\n",
    "    c = -inf\n",
    "    d = inf\n",
    "    \n",
    "    for i in range(len(A)):\n",
    "        x = A[i]\n",
    "        \n",
    "        a = max(a, x+i)\n",
    "        b = min(b, x+i)\n",
    "        \n",
    "        c = max(c, x-i)\n",
    "        d = min(d, x-i)\n",
    "        \n",
    "    ans = max(a - b, c - d)\n",
    "    return ans\n",
    "    \n",
    "    "
   ]
  },
  {
   "cell_type": "code",
   "execution_count": 7,
   "id": "0595c142",
   "metadata": {},
   "outputs": [
    {
     "data": {
      "text/plain": [
       "5"
      ]
     },
     "execution_count": 7,
     "metadata": {},
     "output_type": "execute_result"
    }
   ],
   "source": [
    "maxArr([1, 3, -1])"
   ]
  },
  {
   "cell_type": "code",
   "execution_count": null,
   "id": "69efd643",
   "metadata": {},
   "outputs": [],
   "source": []
  },
  {
   "cell_type": "code",
   "execution_count": null,
   "id": "e3db6031",
   "metadata": {},
   "outputs": [],
   "source": []
  },
  {
   "cell_type": "code",
   "execution_count": null,
   "id": "fc3b1c0c",
   "metadata": {},
   "outputs": [],
   "source": []
  },
  {
   "cell_type": "code",
   "execution_count": null,
   "id": "74b245d4",
   "metadata": {},
   "outputs": [],
   "source": []
  },
  {
   "cell_type": "code",
   "execution_count": null,
   "id": "c47d27cc",
   "metadata": {},
   "outputs": [],
   "source": []
  }
 ],
 "metadata": {
  "kernelspec": {
   "display_name": "Python 3 (ipykernel)",
   "language": "python",
   "name": "python3"
  },
  "language_info": {
   "codemirror_mode": {
    "name": "ipython",
    "version": 3
   },
   "file_extension": ".py",
   "mimetype": "text/x-python",
   "name": "python",
   "nbconvert_exporter": "python",
   "pygments_lexer": "ipython3",
   "version": "3.9.7"
  }
 },
 "nbformat": 4,
 "nbformat_minor": 5
}
