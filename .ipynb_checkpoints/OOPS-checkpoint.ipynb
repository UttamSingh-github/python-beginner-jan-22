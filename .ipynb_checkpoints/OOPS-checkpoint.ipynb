{
 "cells": [
  {
   "cell_type": "markdown",
   "id": "c041fc1a",
   "metadata": {},
   "source": [
    "# OOPS - Object Oriented Programming Style\n",
    "\n",
    "- Object-oriented programming aims to implement real-world entities like inheritance, hiding, polymorphism, etc in programming. The main aim of OOP is to bind together the data and the functions that operate on them so that no other part of the code can access this data except that function.\n",
    "\n",
    "- Classes and objects are two main aspects of OOPs.\n",
    "\n",
    "- Classes are the user-defined blueprints that help us create an object.\n",
    "\n",
    "- Objects are the instances of a particular class. "
   ]
  },
  {
   "cell_type": "code",
   "execution_count": 28,
   "id": "e6bbb103",
   "metadata": {},
   "outputs": [],
   "source": [
    "class Car:\n",
    "    name = \"Maruto 800\"\n",
    "    color = \"Red\"\n",
    "    age = 2\n",
    "    \n",
    "    \n",
    "    def describe(self):\n",
    "        print(\"This is a car function. Describe cars here.\")"
   ]
  },
  {
   "cell_type": "code",
   "execution_count": 29,
   "id": "7f8205b6",
   "metadata": {},
   "outputs": [],
   "source": [
    "maruti = Car()"
   ]
  },
  {
   "cell_type": "code",
   "execution_count": 6,
   "id": "83e28331",
   "metadata": {},
   "outputs": [
    {
     "data": {
      "text/plain": [
       "<__main__.Car at 0x1072aed30>"
      ]
     },
     "execution_count": 6,
     "metadata": {},
     "output_type": "execute_result"
    }
   ],
   "source": [
    "maruti"
   ]
  },
  {
   "cell_type": "code",
   "execution_count": 22,
   "id": "6a4a1c50",
   "metadata": {},
   "outputs": [],
   "source": [
    "maruti.name"
   ]
  },
  {
   "cell_type": "code",
   "execution_count": 9,
   "id": "6acc5641",
   "metadata": {},
   "outputs": [
    {
     "data": {
      "text/plain": [
       "2"
      ]
     },
     "execution_count": 9,
     "metadata": {},
     "output_type": "execute_result"
    }
   ],
   "source": [
    "maruti.age"
   ]
  },
  {
   "cell_type": "code",
   "execution_count": 32,
   "id": "d9e7003a",
   "metadata": {},
   "outputs": [],
   "source": [
    "benz = Car()"
   ]
  },
  {
   "cell_type": "code",
   "execution_count": 33,
   "id": "d8ede2f6",
   "metadata": {},
   "outputs": [
    {
     "data": {
      "text/plain": [
       "<__main__.Car at 0x1072ede80>"
      ]
     },
     "execution_count": 33,
     "metadata": {},
     "output_type": "execute_result"
    }
   ],
   "source": [
    "benz"
   ]
  },
  {
   "cell_type": "code",
   "execution_count": 16,
   "id": "601fedff",
   "metadata": {},
   "outputs": [],
   "source": [
    "benz.name = \"Mercedes\"\n",
    "benz.color = \"Silver\"\n",
    "benz.age = 3\n",
    "benz.fuel = \"Petrol\""
   ]
  },
  {
   "cell_type": "code",
   "execution_count": 17,
   "id": "126d3dd4",
   "metadata": {},
   "outputs": [
    {
     "name": "stdout",
     "output_type": "stream",
     "text": [
      "Mercedes Silver 3 Petrol\n"
     ]
    }
   ],
   "source": [
    "print(benz.name, benz.color, benz.age, benz.fuel)"
   ]
  },
  {
   "cell_type": "code",
   "execution_count": null,
   "id": "1fa7de48",
   "metadata": {},
   "outputs": [],
   "source": []
  },
  {
   "cell_type": "code",
   "execution_count": 15,
   "id": "1253f9c7",
   "metadata": {},
   "outputs": [
    {
     "name": "stdout",
     "output_type": "stream",
     "text": [
      "Maruto 800 Red 2\n"
     ]
    }
   ],
   "source": [
    "print(maruti.name, maruti.color, maruti.age)"
   ]
  },
  {
   "cell_type": "code",
   "execution_count": 18,
   "id": "ec61baf5",
   "metadata": {},
   "outputs": [],
   "source": []
  },
  {
   "cell_type": "code",
   "execution_count": 30,
   "id": "e71893e0",
   "metadata": {},
   "outputs": [
    {
     "name": "stdout",
     "output_type": "stream",
     "text": [
      "This is a car function. Describe cars here.\n"
     ]
    }
   ],
   "source": [
    "maruti.describe()"
   ]
  },
  {
   "cell_type": "code",
   "execution_count": 34,
   "id": "559dbfde",
   "metadata": {},
   "outputs": [
    {
     "name": "stdout",
     "output_type": "stream",
     "text": [
      "This is a car function. Describe cars here.\n"
     ]
    }
   ],
   "source": [
    "benz.describe()"
   ]
  },
  {
   "cell_type": "code",
   "execution_count": null,
   "id": "2081d6b9",
   "metadata": {},
   "outputs": [],
   "source": []
  },
  {
   "cell_type": "code",
   "execution_count": null,
   "id": "bf9995ce",
   "metadata": {},
   "outputs": [],
   "source": []
  },
  {
   "cell_type": "markdown",
   "id": "fecb50f7",
   "metadata": {},
   "source": [
    "<img src=\"https://media.giphy.com/media/6swcfDQHr3UTm/giphy.gif\" width=\"250\" />"
   ]
  },
  {
   "cell_type": "code",
   "execution_count": null,
   "id": "83fb22cf",
   "metadata": {},
   "outputs": [],
   "source": [
    "\n"
   ]
  },
  {
   "cell_type": "code",
   "execution_count": null,
   "id": "8a3cab93",
   "metadata": {},
   "outputs": [],
   "source": []
  },
  {
   "cell_type": "code",
   "execution_count": null,
   "id": "24c1b624",
   "metadata": {},
   "outputs": [],
   "source": []
  },
  {
   "cell_type": "code",
   "execution_count": null,
   "id": "496f9e76",
   "metadata": {},
   "outputs": [],
   "source": []
  },
  {
   "cell_type": "code",
   "execution_count": null,
   "id": "584ba445",
   "metadata": {},
   "outputs": [],
   "source": []
  },
  {
   "cell_type": "code",
   "execution_count": null,
   "id": "16738b58",
   "metadata": {},
   "outputs": [],
   "source": []
  },
  {
   "cell_type": "code",
   "execution_count": null,
   "id": "830ca3bb",
   "metadata": {},
   "outputs": [],
   "source": []
  },
  {
   "cell_type": "markdown",
   "id": "da18c001",
   "metadata": {},
   "source": [
    "## self argument\n",
    "- The first argument of a method of a class is generally referred as 'self'.\n",
    "- `self` refers to the calling object.\n",
    "- This argument is passed implicitly by the Python interpreter and need not be mentioned while calling."
   ]
  },
  {
   "cell_type": "code",
   "execution_count": null,
   "id": "899a862f",
   "metadata": {},
   "outputs": [],
   "source": []
  },
  {
   "cell_type": "code",
   "execution_count": 57,
   "id": "c3167c08",
   "metadata": {},
   "outputs": [],
   "source": [
    "class Car:\n",
    "    \n",
    "    def describe(self):\n",
    "        print(\"Car name =\", self.name)\n",
    "        print(\"Car color =\", self.color)\n",
    "        print(\"Car age =\", self.age)\n",
    "        \n",
    "    def isBanned(self):\n",
    "#         return self.age > 15\n",
    "        if self.age > 15:\n",
    "            return True\n",
    "        else:\n",
    "            return False"
   ]
  },
  {
   "cell_type": "code",
   "execution_count": 58,
   "id": "ffa2b345",
   "metadata": {},
   "outputs": [],
   "source": [
    "benz = Car()\n",
    "benz.name = \"Mercedes\"\n",
    "benz.color = \"Silver\"\n",
    "benz.age = 3"
   ]
  },
  {
   "cell_type": "code",
   "execution_count": 59,
   "id": "faf4472c",
   "metadata": {},
   "outputs": [],
   "source": [
    "maruti = Car()\n",
    "maruti.name = \"Maruti 800\"\n",
    "maruti.color = \"Red\"\n",
    "maruti.age = 20"
   ]
  },
  {
   "cell_type": "code",
   "execution_count": 60,
   "id": "610f497d",
   "metadata": {},
   "outputs": [
    {
     "name": "stdout",
     "output_type": "stream",
     "text": [
      "Car name = Mercedes\n",
      "Car color = Silver\n",
      "Car age = 3\n"
     ]
    }
   ],
   "source": [
    "benz.describe()"
   ]
  },
  {
   "cell_type": "code",
   "execution_count": 61,
   "id": "0b621ba0",
   "metadata": {},
   "outputs": [
    {
     "name": "stdout",
     "output_type": "stream",
     "text": [
      "Car name = Maruti 800\n",
      "Car color = Red\n",
      "Car age = 20\n"
     ]
    }
   ],
   "source": [
    "maruti.describe()"
   ]
  },
  {
   "cell_type": "code",
   "execution_count": null,
   "id": "088e151f",
   "metadata": {},
   "outputs": [],
   "source": []
  },
  {
   "cell_type": "code",
   "execution_count": null,
   "id": "1fd105b1",
   "metadata": {},
   "outputs": [],
   "source": []
  },
  {
   "cell_type": "code",
   "execution_count": null,
   "id": "2315d6b9",
   "metadata": {},
   "outputs": [],
   "source": []
  },
  {
   "cell_type": "code",
   "execution_count": null,
   "id": "ec46b366",
   "metadata": {},
   "outputs": [],
   "source": []
  },
  {
   "cell_type": "code",
   "execution_count": null,
   "id": "6e4f5ba5",
   "metadata": {},
   "outputs": [],
   "source": []
  },
  {
   "cell_type": "markdown",
   "id": "43f324e4",
   "metadata": {},
   "source": [
    "## `__init__()` method\n",
    "- `__init__()` is a special method inside a class that allows us to define the properties/attributes while creating it.\n",
    "- It is a special method that is called/invoked automatically when the object is created. The user need not call it.\n",
    "- It is similar to \"Constructors\" in C++ and Java.\n",
    "\n",
    "Syntax:\n",
    "```py\n",
    "class Car:\n",
    "    def __init__(self):\n",
    "        ...initialisation...\n",
    "```"
   ]
  },
  {
   "cell_type": "code",
   "execution_count": 85,
   "id": "d341086a",
   "metadata": {},
   "outputs": [],
   "source": [
    "class Car:\n",
    "    def __init__(self, name=\"Maruti 800\", color=\"Red\", age=2):\n",
    "        self.name = name\n",
    "        self.color = color\n",
    "        self.age = age\n",
    "        \n",
    "    def isBanned(self):\n",
    "#         return self.age > 15\n",
    "        if self.age > 15:\n",
    "            return True\n",
    "        else:\n",
    "            return False"
   ]
  },
  {
   "cell_type": "code",
   "execution_count": 86,
   "id": "2af35c41",
   "metadata": {},
   "outputs": [],
   "source": [
    "benz = Car(\"Mercedes\", \"Silver\", 20)"
   ]
  },
  {
   "cell_type": "code",
   "execution_count": 78,
   "id": "71f780f2",
   "metadata": {},
   "outputs": [
    {
     "data": {
      "text/plain": [
       "<__main__.Car at 0x107375a90>"
      ]
     },
     "execution_count": 78,
     "metadata": {},
     "output_type": "execute_result"
    }
   ],
   "source": [
    "benz"
   ]
  },
  {
   "cell_type": "code",
   "execution_count": 79,
   "id": "f978d678",
   "metadata": {},
   "outputs": [],
   "source": [
    "maruti = Car()"
   ]
  },
  {
   "cell_type": "code",
   "execution_count": 80,
   "id": "ed124247",
   "metadata": {},
   "outputs": [
    {
     "data": {
      "text/plain": [
       "'Maruti 800'"
      ]
     },
     "execution_count": 80,
     "metadata": {},
     "output_type": "execute_result"
    }
   ],
   "source": [
    "maruti.name"
   ]
  },
  {
   "cell_type": "code",
   "execution_count": null,
   "id": "f3ca20a0",
   "metadata": {},
   "outputs": [],
   "source": []
  },
  {
   "cell_type": "code",
   "execution_count": 83,
   "id": "4873d360",
   "metadata": {},
   "outputs": [
    {
     "data": {
      "text/plain": [
       "True"
      ]
     },
     "execution_count": 83,
     "metadata": {},
     "output_type": "execute_result"
    }
   ],
   "source": [
    "benz.isBanned()"
   ]
  },
  {
   "cell_type": "code",
   "execution_count": 84,
   "id": "b08a3522",
   "metadata": {},
   "outputs": [],
   "source": []
  },
  {
   "cell_type": "code",
   "execution_count": null,
   "id": "26455100",
   "metadata": {},
   "outputs": [],
   "source": []
  },
  {
   "cell_type": "markdown",
   "id": "5477f9c0",
   "metadata": {},
   "source": [
    "## Break till 10:10 pm"
   ]
  },
  {
   "cell_type": "code",
   "execution_count": null,
   "id": "ef668bd1",
   "metadata": {},
   "outputs": [],
   "source": []
  },
  {
   "cell_type": "code",
   "execution_count": null,
   "id": "525e8c68",
   "metadata": {},
   "outputs": [],
   "source": []
  },
  {
   "cell_type": "code",
   "execution_count": null,
   "id": "4fc5494b",
   "metadata": {},
   "outputs": [],
   "source": []
  },
  {
   "cell_type": "markdown",
   "id": "511c911d",
   "metadata": {},
   "source": [
    "## Another example\n",
    "![](https://media.giphy.com/media/144waw4kQiQVgY/giphy.gif)"
   ]
  },
  {
   "cell_type": "code",
   "execution_count": 87,
   "id": "03ad2a14",
   "metadata": {},
   "outputs": [],
   "source": [
    "class Wizard:\n",
    "    def __init__(self, name, age, spell):\n",
    "        self.name = name\n",
    "        self.age = age\n",
    "        self.spell = spell\n",
    "        \n",
    "    def magic(self):\n",
    "#         20 if conditions\n",
    "        print(\"Cast spell - \", self.spell)"
   ]
  },
  {
   "cell_type": "code",
   "execution_count": 88,
   "id": "1d963cdc",
   "metadata": {},
   "outputs": [],
   "source": [
    "harry = Wizard(\"Harry Potter\", 18, \"Expelliarmus\")"
   ]
  },
  {
   "cell_type": "code",
   "execution_count": 89,
   "id": "2015a491",
   "metadata": {},
   "outputs": [
    {
     "name": "stdout",
     "output_type": "stream",
     "text": [
      "Cast spell -  Expelliarmus\n"
     ]
    }
   ],
   "source": [
    "harry.magic()"
   ]
  },
  {
   "cell_type": "code",
   "execution_count": 91,
   "id": "8c9e93af",
   "metadata": {},
   "outputs": [],
   "source": [
    "voldy = Wizard(\"He who must not be named\", 76, \"Avada Kedavra\")"
   ]
  },
  {
   "cell_type": "code",
   "execution_count": 92,
   "id": "893b9e00",
   "metadata": {},
   "outputs": [
    {
     "name": "stdout",
     "output_type": "stream",
     "text": [
      "Cast spell -  Avada Kedavra\n"
     ]
    }
   ],
   "source": [
    "voldy.magic()"
   ]
  },
  {
   "cell_type": "markdown",
   "id": "de20ca05",
   "metadata": {},
   "source": [
    "## Encapsulation\n",
    "Wrapping up the data properties and the methods inside a single entity together."
   ]
  },
  {
   "cell_type": "code",
   "execution_count": null,
   "id": "423a85b1",
   "metadata": {},
   "outputs": [],
   "source": []
  },
  {
   "cell_type": "code",
   "execution_count": null,
   "id": "ff13681f",
   "metadata": {},
   "outputs": [],
   "source": []
  },
  {
   "cell_type": "code",
   "execution_count": null,
   "id": "da20c41c",
   "metadata": {},
   "outputs": [],
   "source": []
  },
  {
   "cell_type": "markdown",
   "id": "1e4549a8",
   "metadata": {},
   "source": [
    "## Data Abstraction\n",
    "The act of hiding the inner workings of your class."
   ]
  },
  {
   "cell_type": "code",
   "execution_count": null,
   "id": "73509a3f",
   "metadata": {},
   "outputs": [],
   "source": []
  },
  {
   "cell_type": "code",
   "execution_count": null,
   "id": "75c2466d",
   "metadata": {},
   "outputs": [],
   "source": []
  },
  {
   "cell_type": "markdown",
   "id": "5839224c",
   "metadata": {},
   "source": [
    "## Modularity\n",
    "Dividing your code in blocks of logic   - functions\n"
   ]
  },
  {
   "cell_type": "code",
   "execution_count": null,
   "id": "b2ae9321",
   "metadata": {},
   "outputs": [],
   "source": []
  },
  {
   "cell_type": "markdown",
   "id": "58d700de",
   "metadata": {},
   "source": [
    "# Everything in Python is an Object"
   ]
  },
  {
   "cell_type": "code",
   "execution_count": 97,
   "id": "3dfffe96",
   "metadata": {},
   "outputs": [],
   "source": [
    "a = 5"
   ]
  },
  {
   "cell_type": "code",
   "execution_count": 98,
   "id": "d9c1ce7c",
   "metadata": {},
   "outputs": [
    {
     "name": "stdout",
     "output_type": "stream",
     "text": [
      "<class 'int'>\n"
     ]
    }
   ],
   "source": [
    "print(type(a))"
   ]
  },
  {
   "cell_type": "code",
   "execution_count": 99,
   "id": "bd4118e3",
   "metadata": {},
   "outputs": [
    {
     "name": "stdout",
     "output_type": "stream",
     "text": [
      "<class 'function'>\n"
     ]
    }
   ],
   "source": [
    "b = 'hello'\n",
    "c = 6346543.2342345\n",
    "\n",
    "def hello():\n",
    "    print(\"Hello world\")\n",
    "    \n",
    "print(type(hello))"
   ]
  },
  {
   "cell_type": "markdown",
   "id": "37bc0cfb",
   "metadata": {},
   "source": [
    "## OOPS Concepts\n",
    "DEMPI\n",
    "1. Data Abstraction\n",
    "2. Encapsulation\n",
    "3. Modularity\n",
    "4. Polymorphism\n",
    "5. Inheritance"
   ]
  },
  {
   "cell_type": "code",
   "execution_count": null,
   "id": "0749db56",
   "metadata": {},
   "outputs": [],
   "source": []
  },
  {
   "cell_type": "code",
   "execution_count": 106,
   "id": "913ee9b1",
   "metadata": {},
   "outputs": [
    {
     "name": "stdout",
     "output_type": "stream",
     "text": [
      "<__main__.Car.Seat object at 0x1073759d0>\n",
      "Red\n"
     ]
    }
   ],
   "source": [
    "class Car:\n",
    "    class Seat:\n",
    "        def __init__(self, color = \"grey\"):\n",
    "            self.color = color\n",
    "            \n",
    "    def __init__(self):\n",
    "        self.name = \"Lamborghini\"\n",
    "            \n",
    "    def drive(self):\n",
    "        s = self.Seat(\"Red\")\n",
    "        print(s)\n",
    "        print(s.color)\n",
    "        \n",
    "c = Car()\n",
    "c.drive()"
   ]
  },
  {
   "cell_type": "code",
   "execution_count": null,
   "id": "e8b6ca53",
   "metadata": {},
   "outputs": [],
   "source": []
  },
  {
   "cell_type": "code",
   "execution_count": null,
   "id": "63881df1",
   "metadata": {},
   "outputs": [],
   "source": []
  }
 ],
 "metadata": {
  "kernelspec": {
   "display_name": "Python 3 (ipykernel)",
   "language": "python",
   "name": "python3"
  },
  "language_info": {
   "codemirror_mode": {
    "name": "ipython",
    "version": 3
   },
   "file_extension": ".py",
   "mimetype": "text/x-python",
   "name": "python",
   "nbconvert_exporter": "python",
   "pygments_lexer": "ipython3",
   "version": "3.9.7"
  }
 },
 "nbformat": 4,
 "nbformat_minor": 5
}
